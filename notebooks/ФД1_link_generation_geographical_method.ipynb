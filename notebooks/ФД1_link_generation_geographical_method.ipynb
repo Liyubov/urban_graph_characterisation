{
  "nbformat": 4,
  "nbformat_minor": 0,
  "metadata": {
    "colab": {
      "provenance": []
    },
    "kernelspec": {
      "name": "python3",
      "display_name": "Python 3"
    },
    "language_info": {
      "name": "python"
    }
  },
  "cells": [
    {
      "cell_type": "code",
      "execution_count": null,
      "metadata": {
        "id": "o_IGTCaSdby4"
      },
      "outputs": [],
      "source": []
    },
    {
      "cell_type": "markdown",
      "source": [
        "This code identifies potential missing connections in a road network by detecting node pairs that are either geographically close (within 300 meters) or have an excessively long network path relative to their straight-line distance (more than 5 times longer).\n",
        "\n",
        "The hyperparameters of the method."
      ],
      "metadata": {
        "id": "WC9752UQebGm"
      }
    },
    {
      "cell_type": "code",
      "source": [
        "# Method generating new edges which are connecting geographically far nodes\n",
        "\n",
        "import osmnx as ox\n",
        "import networkx as nx\n",
        "from itertools import combinations\n",
        "\n",
        "# Load a graph (e.g., Rome, Italy) ...\n",
        "\n",
        "G = ox.graph_from_place('Amurzet_town, Russia', network_type=\"drive\", simplify=True) #(\"Bamut_village, Russia\", network_type=\"drive\", simplify=True)\n",
        "G_undir = G.to_undirected()\n",
        "\n",
        "#  Generate candidate edges from nodes which are close geographically\n",
        "candidate_edges = []\n",
        "for u, v in combinations(G.nodes(), 2):\n",
        "    if not G.has_edge(u, v):\n",
        "        u_coord = (G.nodes[u]['y'], G.nodes[u]['x'])\n",
        "        v_coord = (G.nodes[v]['y'], G.nodes[v]['x'])\n",
        "        euclidean_dist = ox.distance.great_circle(G.nodes[u]['y'], G.nodes[u]['x'], G.nodes[v]['y'], G.nodes[v]['x'])\n",
        "        #ox.distance.great_circle()\n",
        "        if euclidean_dist < 300:  # 300-meter threshold\n",
        "            candidate_edges.append((u, v))\n",
        "\n",
        "            if not G.has_edge(u, v):\n",
        "                try:\n",
        "                    network_dist = nx.shortest_path_length(G, u, v, weight='length')\n",
        "                    if network_dist / euclidean_dist > 5: # if network distance is much larger than geographical distance\n",
        "                      candidate_edges.append((u, v))\n",
        "                except nx.NetworkXNoPath:\n",
        "                    continue\n",
        "\n",
        "# Now we need to check whether we add anything from those nodes\n",
        "print(candidate_edges)"
      ],
      "metadata": {
        "id": "BJ-YCMvcdefG"
      },
      "execution_count": null,
      "outputs": []
    },
    {
      "cell_type": "code",
      "source": [
        "# plotting the graph which are added in the graph and checking the connectivity levels\n",
        "import matplotlib as plt\n",
        "\n",
        "\n",
        "# Plot base graph with gray edges\n",
        "fig, ax = ox.plot_graph(\n",
        "    G,\n",
        "    show=False,\n",
        "    close=False,\n",
        "    bgcolor=\"white\",\n",
        "    edge_color=\"gray\",\n",
        "    node_size=0,\n",
        "    edge_linewidth=0.5\n",
        ")\n",
        "\n",
        "# Overlay candidate edges in red\n",
        "for u, v in candidate_edges:\n",
        "    if u in G.nodes() and v in G.nodes():  # Ensure nodes exist\n",
        "        xu, yu = G.nodes[u][\"x\"], G.nodes[u][\"y\"]\n",
        "        xv, yv = G.nodes[v][\"x\"], G.nodes[v][\"y\"]\n",
        "        ax.plot(\n",
        "            [xu, xv],\n",
        "            [yu, yv],\n",
        "            color=\"red\",\n",
        "            linestyle=\"--\",\n",
        "            linewidth=2,\n",
        "            alpha=0.7,\n",
        "            zorder=3  # Ensure candidate edges appear above base graph\n",
        "        )\n",
        "\n",
        "plt.title(\"Network with Suggested Links (Red Dashes)\")\n",
        "plt.show()\n",
        "\n",
        "\n"
      ],
      "metadata": {
        "id": "X_FU70SXd9af"
      },
      "execution_count": null,
      "outputs": []
    }
  ]
}